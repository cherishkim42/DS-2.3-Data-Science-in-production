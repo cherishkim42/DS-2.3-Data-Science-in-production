{
 "cells": [
  {
   "cell_type": "markdown",
   "metadata": {},
   "source": [
    "# We use DECORATORS because they add some functionality to existing code"
   ]
  },
  {
   "cell_type": "code",
   "execution_count": 4,
   "metadata": {},
   "outputs": [
    {
     "name": "stdout",
     "output_type": "stream",
     "text": [
      "2\n",
      "adding one\n",
      "3\n"
     ]
    }
   ],
   "source": [
    "def addOne(myFunc):\n",
    "    def addOneInside(x):\n",
    "        print('adding one')\n",
    "        return myFunc(x) + 1\n",
    "    return addOneInside\n",
    "\n",
    "def subThree(x):\n",
    "    return x - 3\n",
    "\n",
    "print(subThree(5)) #just to verify\n",
    "result = addOne(subThree)\n",
    "print(result(5))"
   ]
  },
  {
   "cell_type": "markdown",
   "metadata": {},
   "source": [
    "### One-liner with a DECORATOR"
   ]
  },
  {
   "cell_type": "code",
   "execution_count": 5,
   "metadata": {},
   "outputs": [
    {
     "name": "stdout",
     "output_type": "stream",
     "text": [
      "adding one\n",
      "3\n"
     ]
    }
   ],
   "source": [
    "@addOne\n",
    "def subThree(x):\n",
    "    return x - 3\n",
    "\n",
    "print(subThree(5))"
   ]
  },
  {
   "cell_type": "markdown",
   "metadata": {},
   "source": [
    "<b>Unrelated to decorators</b>\n",
    "\n",
    "\n",
    "Write a function that returns the intersections of two given sets or three given sets or 4 or 5 ....\n",
    "\n",
    "``` python\n",
    "f_intersection({3, 4}, {3, 5})\n",
    "f_intersection({3, 4}, {3, 5}, {5, 7})\n",
    "```"
   ]
  },
  {
   "cell_type": "markdown",
   "metadata": {},
   "source": [
    "Lol pseudocode time.\n",
    "\n",
    "So.... I can think of a way to solve this with just two arguments, but I'm not sure how to deal with more than that. For now, let's start with just two.\n",
    "\n",
    "For i in range(less number of first set, greater number of first set):\n",
    "\n",
    "Nvm there's real functional code now lol\n",
    "    "
   ]
  },
  {
   "cell_type": "markdown",
   "metadata": {},
   "source": [
    "# ```*arg```"
   ]
  },
  {
   "cell_type": "code",
   "execution_count": 6,
   "metadata": {},
   "outputs": [
    {
     "name": "stdout",
     "output_type": "stream",
     "text": [
      "['a']\n"
     ]
    }
   ],
   "source": [
    "def get_intersection(*arg):\n",
    "    result = set(arg[0])\n",
    "    for i in range(1, len(arg)):\n",
    "        result = result & set(arg[i])\n",
    "    return list(result)\n",
    "\n",
    "print(get_intersection(['a', 'b'], ['a', 'c'], ['a', 'b']))"
   ]
  },
  {
   "cell_type": "markdown",
   "metadata": {},
   "source": [
    "# Same -- implement intersection, using <i>reduce</i>"
   ]
  },
  {
   "cell_type": "code",
   "execution_count": 7,
   "metadata": {},
   "outputs": [
    {
     "name": "stdout",
     "output_type": "stream",
     "text": [
      "{3}\n"
     ]
    }
   ],
   "source": [
    "from functools import reduce\n",
    "\n",
    "print(reduce(lambda x, y: x & y, [{1, 2, 3}, {2, 3, 4}, {3, 4, 5}]))"
   ]
  },
  {
   "cell_type": "code",
   "execution_count": 8,
   "metadata": {},
   "outputs": [
    {
     "name": "stdout",
     "output_type": "stream",
     "text": [
      "7\n"
     ]
    }
   ],
   "source": [
    "print(reduce(lambda x, y: x + y, [1, 2, 4]))"
   ]
  },
  {
   "cell_type": "markdown",
   "metadata": {},
   "source": [
    "# Count: How many words do we have in a list?"
   ]
  },
  {
   "cell_type": "code",
   "execution_count": 9,
   "metadata": {},
   "outputs": [
    {
     "data": {
      "text/plain": [
       "{'Deer': 2, 'Bear': 2, 'River': 2, 'Car': 3}"
      ]
     },
     "execution_count": 9,
     "metadata": {},
     "output_type": "execute_result"
    }
   ],
   "source": [
    "from collections import Counter\n",
    "\n",
    "words = ['Deer', 'Bear', 'River', 'Car', 'Car', 'River', 'Deer', 'Car', 'Bear']\n",
    "\n",
    "mapping = map(lambda x : {x: 1}, words)\n",
    "\n",
    "def fn(x, y):\n",
    "    return dict(Counter(x) + Counter(y))\n",
    "\n",
    "reduce(fn, mapping)"
   ]
  },
  {
   "cell_type": "code",
   "execution_count": 10,
   "metadata": {},
   "outputs": [
    {
     "data": {
      "text/plain": [
       "{'a': 2, 'b': 1}"
      ]
     },
     "execution_count": 10,
     "metadata": {},
     "output_type": "execute_result"
    }
   ],
   "source": [
    "reduce(fn, [{'a': 1}, {'a': 1}, {'b': 1}])"
   ]
  },
  {
   "cell_type": "code",
   "execution_count": 11,
   "metadata": {},
   "outputs": [
    {
     "data": {
      "text/plain": [
       "Counter({'a': 2})"
      ]
     },
     "execution_count": 11,
     "metadata": {},
     "output_type": "execute_result"
    }
   ],
   "source": [
    "Counter({'a': 1}) + Counter({'a': 1})"
   ]
  },
  {
   "cell_type": "code",
   "execution_count": null,
   "metadata": {},
   "outputs": [],
   "source": []
  }
 ],
 "metadata": {
  "kernelspec": {
   "display_name": "Python 3",
   "language": "python",
   "name": "python3"
  },
  "language_info": {
   "codemirror_mode": {
    "name": "ipython",
    "version": 3
   },
   "file_extension": ".py",
   "mimetype": "text/x-python",
   "name": "python",
   "nbconvert_exporter": "python",
   "pygments_lexer": "ipython3",
   "version": "3.7.1"
  }
 },
 "nbformat": 4,
 "nbformat_minor": 2
}
